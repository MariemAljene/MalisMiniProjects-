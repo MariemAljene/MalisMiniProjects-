{
 "cells": [
  {
   "cell_type": "markdown",
   "id": "b645da4b-3c6a-4d00-98e6-bf9530bba0ef",
   "metadata": {},
   "source": [
    "Use this notebook to run experiments and plot results easily. You do not need to submit it, but you may use some of the generated plots in your report."
   ]
  },
  {
   "cell_type": "code",
   "execution_count": null,
   "id": "7a48b1f3",
   "metadata": {},
   "outputs": [],
   "source": [
    "#Part I – Implementing a kNN from scratch: "
   ]
  },
  {
   "cell_type": "code",
   "execution_count": null,
   "id": "dd1a2bb7",
   "metadata": {},
   "outputs": [],
   "source": [
    "from scipy.spatial import distance_matrix\n",
    "import numpy as np\n",
    "from sklearn.metrics import accuracy_score"
   ]
  },
  {
   "cell_type": "code",
   "execution_count": null,
   "id": "3c3df395",
   "metadata": {},
   "outputs": [],
   "source": [
    "class KNN:\n",
    "    '''\n",
    "    k nearest neighboors algorithm class\n",
    "    __init__() initialize the model\n",
    "    train() trains the model\n",
    "    predict() predict the class for a new point\n",
    "    '''\n",
    "\n",
    "    def __init__(self, k):\n",
    "        if k <= 0:\n",
    "            raise Exception(\"Sorry, no numbers below or equal to zero. Start again!\")\n",
    "        \n",
    "        # empty initialization of X and y\n",
    "        self.X = []\n",
    "        self.y = []\n",
    "        # k is the parameter of the algorithm representing the number of neighborhoods\n",
    "        self.k = k\n",
    "        \n",
    "    def train(self, X, y):\n",
    "        self.X = X\n",
    "        self.y = y\n",
    "       \n",
    "    def predict(self, X_new, p):\n",
    "        if self.X is None or self.y is None:\n",
    "            raise Exception(\"Sorry, the model is not trained. Call train() with training data\")\n",
    "            \n",
    "        distance = self.minkowski_dist(X_new, p)\n",
    "        y_hat = []\n",
    "        \n",
    "        for row in distance:\n",
    "            k_indice = np.argsort(row)[:self.k]\n",
    "            k_nearest = [self.y[i] for i in k_indice]\n",
    "            prediction = np.bincount(k_nearest).argmax()\n",
    "            y_hat.append(prediction)\n",
    "\n",
    "        return np.array(y_hat)\n",
    "    \n",
    "    def minkowski_dist(self, X_new, p):\n",
    "        '''\n",
    "        INPUT : \n",
    "        - X_new : is a MxD numpy array containing the coordinates of points for which the distance to the training set X will be estimated\n",
    "        - p : parameter of the Minkowski distance\n",
    "        \n",
    "        OUTPUT :\n",
    "        - dst : is an MxN numpy array containing the distance of each point in X_new to X\n",
    "        '''\n",
    "        # Verify if the training data is provided or not\n",
    "        if self.X is None:\n",
    "            raise Exception(\"Sorry, the model is not trained. Try providing training data\")\n",
    "        \n",
    "        dst = distance_matrix(X_new, self.X, p=p)\n",
    "        print(dst.shape)\n",
    "        return dst\n"
   ]
  },
  {
   "cell_type": "code",
   "execution_count": null,
   "id": "28d636fd",
   "metadata": {},
   "outputs": [],
   "source": [
    "import pandas as pd\n",
    "import numpy as np"
   ]
  },
  {
   "cell_type": "code",
   "execution_count": null,
   "id": "c4536eaf",
   "metadata": {},
   "outputs": [],
   "source": [
    "training_data = pd.read_csv('training.csv')\n",
    "validation_data = pd.read_csv('validation.csv')\n"
   ]
  },
  {
   "cell_type": "code",
   "execution_count": null,
   "id": "ebcb15a0-3758-47b0-baf7-32a665842aa3",
   "metadata": {},
   "outputs": [],
   "source": [
    "X_train = training_data.drop('y', axis=1)\n",
    "y_train = training_data['y']\n"
   ]
  },
  {
   "cell_type": "code",
   "execution_count": null,
   "id": "c0ceeab9",
   "metadata": {},
   "outputs": [
    {
     "data": {
      "text/plain": [
       "(2800,)"
      ]
     },
     "execution_count": 27,
     "metadata": {},
     "output_type": "execute_result"
    }
   ],
   "source": [
    "X_train.shape\n",
    "y_train.shape\n"
   ]
  },
  {
   "cell_type": "markdown",
   "id": "0ded6b3b-1ccd-4665-bb1c-4e3450a794b9",
   "metadata": {},
   "source": [
    "X_val = validation_data.drop('y', axis=1)\n",
    "y_val = validation_data['y']"
   ]
  },
  {
   "cell_type": "code",
   "execution_count": null,
   "id": "c89abfe0-d30e-4bd9-9cc6-e93600a75024",
   "metadata": {},
   "outputs": [],
   "source": [
    "X_val = validation_data.drop('y', axis=1)\n",
    "y_val = validation_data['y']"
   ]
  },
  {
   "cell_type": "code",
   "execution_count": null,
   "id": "e820e1ec-44e0-4b7a-902b-ff553da88291",
   "metadata": {},
   "outputs": [
    {
     "data": {
      "text/plain": [
       "(480,)"
      ]
     },
     "execution_count": 25,
     "metadata": {},
     "output_type": "execute_result"
    }
   ],
   "source": [
    "X_val.shape\n",
    "y_val.shape"
   ]
  },
  {
   "cell_type": "code",
   "execution_count": null,
   "id": "5897b8db-56bd-4d87-ab1c-e80f48c0abdd",
   "metadata": {},
   "outputs": [
    {
     "name": "stdout",
     "output_type": "stream",
     "text": [
      "Training Data:\n",
      "         X1        X2\n",
      "0  2.515463  1.991283\n",
      "1  0.447593  0.559807\n",
      "2  0.749229 -0.433780\n",
      "3 -0.289287  1.536832\n",
      "4  3.675082  2.146912\n",
      "0    1.0\n",
      "1    1.0\n",
      "2    0.0\n",
      "3    1.0\n",
      "4    1.0\n",
      "Name: y, dtype: float64\n"
     ]
    }
   ],
   "source": [
    "print(\"Training Data:\")\n",
    "print(X_train.head())\n",
    "print(y_train.head())"
   ]
  },
  {
   "cell_type": "code",
   "execution_count": null,
   "id": "44226b41",
   "metadata": {},
   "outputs": [
    {
     "name": "stdout",
     "output_type": "stream",
     "text": [
      "Validation data : \n",
      "         X1        X2\n",
      "0  0.150792  0.131491\n",
      "1  1.637961  0.865304\n",
      "2  2.489981 -0.399073\n",
      "3  3.162354  0.131336\n",
      "4  0.267035 -0.319733\n",
      "0    1.0\n",
      "1    1.0\n",
      "2    1.0\n",
      "3    1.0\n",
      "4    0.0\n",
      "Name: y, dtype: float64\n"
     ]
    }
   ],
   "source": [
    "print(\"Validation data : \")\n",
    "print(X_val.head())\n",
    "print(y_val.head())"
   ]
  },
  {
   "cell_type": "code",
   "execution_count": null,
   "id": "4b9f35f6",
   "metadata": {},
   "outputs": [],
   "source": [
    "k = 5\n",
    "knn_instance = KNN(k)\n",
    "knn_instance.train(X_train,y_train)\n"
   ]
  },
  {
   "cell_type": "code",
   "execution_count": 1,
   "id": "963f02a9",
   "metadata": {},
   "outputs": [
    {
     "ename": "NameError",
     "evalue": "name 'KNN' is not defined",
     "output_type": "error",
     "traceback": [
      "\u001b[1;31m---------------------------------------------------------------------------\u001b[0m",
      "\u001b[1;31mNameError\u001b[0m                                 Traceback (most recent call last)",
      "\u001b[1;32mc:\\Users\\marie\\Downloads\\Project1\\experiments.ipynb Cell 15\u001b[0m line \u001b[0;36m7\n\u001b[0;32m      <a href='vscode-notebook-cell:/c%3A/Users/marie/Downloads/Project1/experiments.ipynb#X20sZmlsZQ%3D%3D?line=4'>5</a>\u001b[0m \u001b[39mfor\u001b[39;00m k \u001b[39min\u001b[39;00m k_values:\n\u001b[0;32m      <a href='vscode-notebook-cell:/c%3A/Users/marie/Downloads/Project1/experiments.ipynb#X20sZmlsZQ%3D%3D?line=5'>6</a>\u001b[0m     \u001b[39mfor\u001b[39;00m p \u001b[39min\u001b[39;00m p_values:\n\u001b[1;32m----> <a href='vscode-notebook-cell:/c%3A/Users/marie/Downloads/Project1/experiments.ipynb#X20sZmlsZQ%3D%3D?line=6'>7</a>\u001b[0m         knn_model \u001b[39m=\u001b[39m KNN(k)\n\u001b[0;32m      <a href='vscode-notebook-cell:/c%3A/Users/marie/Downloads/Project1/experiments.ipynb#X20sZmlsZQ%3D%3D?line=7'>8</a>\u001b[0m         knn_model\u001b[39m.\u001b[39mtrain(X_train, y_train)\n\u001b[0;32m      <a href='vscode-notebook-cell:/c%3A/Users/marie/Downloads/Project1/experiments.ipynb#X20sZmlsZQ%3D%3D?line=8'>9</a>\u001b[0m         y_pred \u001b[39m=\u001b[39m knn_model\u001b[39m.\u001b[39mpredict(X_val, p)\n",
      "\u001b[1;31mNameError\u001b[0m: name 'KNN' is not defined"
     ]
    }
   ],
   "source": [
    "accuracies = []\n",
    "k_values = list(range(1, 30))\n",
    "p_values = list(range(1, 10))\n",
    "best_acc = 0.0\n",
    "for k in k_values:\n",
    "    for p in p_values:\n",
    "        knn_model = KNN(k)\n",
    "        knn_model.train(X_train, y_train)\n",
    "        y_pred = knn_model.predict(X_val, p)\n",
    "        acc = accuracy_score(y_val, y_pred)\n",
    "        accuracies.append(acc)\n",
    "        print(f\"accuracy is {acc} with k={k}\")\n",
    "        if acc > best_acc:\n",
    "            best_acc = acc\n",
    "            best_k = k\n",
    "            best_p = p\n",
    "print(f\"Validation accuracy: {best_acc}, k={best_k}, p={best_p}\")"
   ]
  }
 ],
 "metadata": {
  "kernelspec": {
   "display_name": "Python 3 (ipykernel)",
   "language": "python",
   "name": "python3"
  },
  "language_info": {
   "codemirror_mode": {
    "name": "ipython",
    "version": 3
   },
   "file_extension": ".py",
   "mimetype": "text/x-python",
   "name": "python",
   "nbconvert_exporter": "python",
   "pygments_lexer": "ipython3",
   "version": "3.11.2"
  }
 },
 "nbformat": 4,
 "nbformat_minor": 5
}
